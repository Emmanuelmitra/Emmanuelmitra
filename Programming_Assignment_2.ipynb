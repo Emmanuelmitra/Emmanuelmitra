{
  "nbformat": 4,
  "nbformat_minor": 0,
  "metadata": {
    "colab": {
      "provenance": [],
      "authorship_tag": "ABX9TyN3h2vivwLD3saBP/rie53z",
      "include_colab_link": true
    },
    "kernelspec": {
      "name": "python3",
      "display_name": "Python 3"
    },
    "language_info": {
      "name": "python"
    }
  },
  "cells": [
    {
      "cell_type": "markdown",
      "metadata": {
        "id": "view-in-github",
        "colab_type": "text"
      },
      "source": [
        "<a href=\"https://colab.research.google.com/github/Emmanuelmitra/Emmanuelmitra/blob/main/Programming_Assignment_2.ipynb\" target=\"_parent\"><img src=\"https://colab.research.google.com/assets/colab-badge.svg\" alt=\"Open In Colab\"/></a>"
      ]
    },
    {
      "cell_type": "code",
      "source": [
        "# Programming Assignment_2"
      ],
      "metadata": {
        "id": "dLNU7H2Ev9AP"
      },
      "execution_count": 20,
      "outputs": []
    },
    {
      "cell_type": "markdown",
      "source": [
        "1. Write a Python program to convert kilometers to miles?\n",
        "2. Write a Python program to convert Celsius to Fahrenheit?\n",
        "3. Write a Python program to display calendar?\n",
        "4. Write a Python program to solve quadratic equation?\n",
        "5. Write a Python program to swap two variables without temp variable?"
      ],
      "metadata": {
        "id": "xrLW0198v9cf"
      }
    },
    {
      "cell_type": "code",
      "execution_count": 1,
      "metadata": {
        "colab": {
          "base_uri": "https://localhost:8080/"
        },
        "id": "QIgUj2kzvkcE",
        "outputId": "1ced5c02-4855-430f-d704-6a45fa99386d"
      },
      "outputs": [
        {
          "output_type": "stream",
          "name": "stdout",
          "text": [
            "Enter value in kilometers: 1\n",
            "1.00 kilometers is equal to 0.62 miles\n"
          ]
        }
      ],
      "source": [
        "# 1.Write a Python program to convert kilometers to miles?\n",
        "# Taking kilometers input from the user\n",
        "kilometers = float(input(\"Enter value in kilometers: \"))\n",
        "\n",
        "# conversion factor\n",
        "conv_fac = 0.621371\n",
        "\n",
        "# calculate miles\n",
        "miles = kilometers * conv_fac\n",
        "print('%0.2f kilometers is equal to %0.2f miles' %(kilometers,miles))"
      ]
    },
    {
      "cell_type": "code",
      "source": [
        "# 2.Write a Python program to convert Celsius to Fahrenheit?\n",
        "Fahrenheit = int(input(\"Enter a temperature in Fahrenheit: \"))\n",
        "\n",
        "Celsius = (Fahrenheit - 32) * 5.0/9.0\n",
        "\n",
        "print(\"Temperature:\", Fahrenheit, \"Fahrenheit = \", Celsius, \" C\")"
      ],
      "metadata": {
        "colab": {
          "base_uri": "https://localhost:8080/"
        },
        "id": "_klWYlZavzSq",
        "outputId": "51507bcc-b431-4a5e-db39-b65952debc88"
      },
      "execution_count": 13,
      "outputs": [
        {
          "output_type": "stream",
          "name": "stdout",
          "text": [
            "Enter a temperature in Fahrenheit: 2\n",
            "Temperature: 2 Fahrenheit =  -16.666666666666668  C\n"
          ]
        }
      ]
    },
    {
      "cell_type": "code",
      "source": [
        "# 3.Write a Python program to display calendar?\n",
        "\n",
        "# Program to display calendar of the given month and year\n",
        "\n",
        "# importing calendar module\n",
        "import calendar\n",
        "\n",
        "yy = 2014  # year\n",
        "mm = 11    # month\n",
        "\n",
        "# To take month and year input from the user\n",
        "# yy = int(input(\"Enter year: \"))\n",
        "# mm = int(input(\"Enter month: \"))\n",
        "\n",
        "# display the calendar\n",
        "print(calendar.month(yy, mm))"
      ],
      "metadata": {
        "colab": {
          "base_uri": "https://localhost:8080/"
        },
        "id": "kABEjXdSwJfy",
        "outputId": "cce25146-173c-4553-ba5c-95764c22b5bc"
      },
      "execution_count": 15,
      "outputs": [
        {
          "output_type": "stream",
          "name": "stdout",
          "text": [
            "   November 2014\n",
            "Mo Tu We Th Fr Sa Su\n",
            "                1  2\n",
            " 3  4  5  6  7  8  9\n",
            "10 11 12 13 14 15 16\n",
            "17 18 19 20 21 22 23\n",
            "24 25 26 27 28 29 30\n",
            "\n"
          ]
        }
      ]
    },
    {
      "cell_type": "code",
      "source": [
        "# 4.Write a Python program to solve quadratic equation?\n",
        "from math import sqrt\n",
        "\n",
        "def quadratic(a, b, c):\n",
        "    x1 = -b / (2*a)\n",
        "    x2 = sqrt(b**2 - 4*a*c) / (2*a)\n",
        "    return (x1 + x2), (x1 - x2)\n",
        "\n",
        "quadratic(2,5,1)"
      ],
      "metadata": {
        "colab": {
          "base_uri": "https://localhost:8080/"
        },
        "id": "EQNoVxwSw3MY",
        "outputId": "b94aad5d-6c23-40bf-9655-9b688ffc586b"
      },
      "execution_count": 17,
      "outputs": [
        {
          "output_type": "execute_result",
          "data": {
            "text/plain": [
              "(-0.21922359359558485, -2.2807764064044154)"
            ]
          },
          "metadata": {},
          "execution_count": 17
        }
      ]
    },
    {
      "cell_type": "code",
      "source": [
        "# 5.Write a Python program to swap two variables without temp variable?\n",
        "# Python code to swap two numbers\n",
        "# without using another variable\n",
        " \n",
        " \n",
        "x = 5\n",
        "y = 7\n",
        " \n",
        "print (\"Before swapping: \")\n",
        "print(\"Value of x : \", x, \" and y : \", y)\n",
        " \n",
        "# code to swap 'x' and 'y'\n",
        "x, y = y, x\n",
        " \n",
        "print (\"After swapping: \")\n",
        "print(\"Value of x : \", x, \" and y : \", y)"
      ],
      "metadata": {
        "colab": {
          "base_uri": "https://localhost:8080/"
        },
        "id": "UGP3Nt37xMtl",
        "outputId": "6ee8bda8-96c7-4621-b253-b654d57b5416"
      },
      "execution_count": 19,
      "outputs": [
        {
          "output_type": "stream",
          "name": "stdout",
          "text": [
            "Before swapping: \n",
            "Value of x :  5  and y :  7\n",
            "After swapping: \n",
            "Value of x :  7  and y :  5\n"
          ]
        }
      ]
    },
    {
      "cell_type": "code",
      "source": [],
      "metadata": {
        "id": "UfJdGmVUxgmX"
      },
      "execution_count": null,
      "outputs": []
    }
  ]
}